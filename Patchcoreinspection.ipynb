{
  "nbformat": 4,
  "nbformat_minor": 0,
  "metadata": {
    "colab": {
      "provenance": [],
      "gpuType": "T4",
      "authorship_tag": "ABX9TyMRAvLUzH8Bz0MrzsRzKMBg",
      "include_colab_link": true
    },
    "kernelspec": {
      "name": "python3",
      "display_name": "Python 3"
    },
    "language_info": {
      "name": "python"
    },
    "accelerator": "GPU"
  },
  "cells": [
    {
      "cell_type": "markdown",
      "metadata": {
        "id": "view-in-github",
        "colab_type": "text"
      },
      "source": [
        "<a href=\"https://colab.research.google.com/github/eklahari/Caliche_internship/blob/main/Patchcoreinspection.ipynb\" target=\"_parent\"><img src=\"https://colab.research.google.com/assets/colab-badge.svg\" alt=\"Open In Colab\"/></a>"
      ]
    },
    {
      "cell_type": "code",
      "execution_count": 7,
      "metadata": {
        "colab": {
          "base_uri": "https://localhost:8080/"
        },
        "id": "NEzGj-wAlx90",
        "outputId": "99d9930b-962e-451e-ae69-78607b86f1b9"
      },
      "outputs": [
        {
          "output_type": "stream",
          "name": "stdout",
          "text": [
            "fatal: destination path 'patchcore-inspection' already exists and is not an empty directory.\n"
          ]
        }
      ],
      "source": [
        "!git clone https://github.com/amazon-science/patchcore-inspection"
      ]
    },
    {
      "cell_type": "code",
      "source": [
        "!pip install  timm"
      ],
      "metadata": {
        "id": "nN3wPmZUm9mx"
      },
      "execution_count": null,
      "outputs": []
    },
    {
      "cell_type": "code",
      "source": [
        "! pip install click==8.0.3"
      ],
      "metadata": {
        "id": "X_wkmbU53rMq"
      },
      "execution_count": null,
      "outputs": []
    },
    {
      "cell_type": "code",
      "source": [
        "!pip uninstall faiss-gpu\n",
        "!pip uninstall faiss-cpu\n",
        "!pip install faiss-gpu"
      ],
      "metadata": {
        "id": "P4egHt4QnE0E",
        "colab": {
          "base_uri": "https://localhost:8080/"
        },
        "outputId": "b404bbd9-e919-4e6e-afa5-da8ad5b13880"
      },
      "execution_count": 14,
      "outputs": [
        {
          "output_type": "stream",
          "name": "stdout",
          "text": [
            "Found existing installation: faiss-gpu 1.7.2\n",
            "Uninstalling faiss-gpu-1.7.2:\n",
            "  Would remove:\n",
            "    /usr/local/lib/python3.10/dist-packages/faiss/*\n",
            "    /usr/local/lib/python3.10/dist-packages/faiss_gpu-1.7.2.dist-info/*\n",
            "    /usr/local/lib/python3.10/dist-packages/faiss_gpu.libs/libgfortran-040039e1.so.5.0.0\n",
            "    /usr/local/lib/python3.10/dist-packages/faiss_gpu.libs/libgomp-a34b3233.so.1.0.0\n",
            "    /usr/local/lib/python3.10/dist-packages/faiss_gpu.libs/libquadmath-96973f99.so.0.0.0\n",
            "    /usr/local/lib/python3.10/dist-packages/faiss_gpu.libs/libz-745e0a09.so.1.2.7\n",
            "  Would not remove (might be manually added):\n",
            "    /usr/local/lib/python3.10/dist-packages/faiss/_swigfaiss_avx2.cpython-310-x86_64-linux-gnu.so\n",
            "    /usr/local/lib/python3.10/dist-packages/faiss/array_conversions.py\n",
            "    /usr/local/lib/python3.10/dist-packages/faiss/class_wrappers.py\n",
            "    /usr/local/lib/python3.10/dist-packages/faiss/contrib/clustering.py\n",
            "    /usr/local/lib/python3.10/dist-packages/faiss/extra_wrappers.py\n",
            "    /usr/local/lib/python3.10/dist-packages/faiss/gpu_wrappers.py\n",
            "    /usr/local/lib/python3.10/dist-packages/faiss/swigfaiss_avx2.py\n",
            "Proceed (Y/n)? Y\n",
            "  Successfully uninstalled faiss-gpu-1.7.2\n",
            "Found existing installation: faiss-cpu 1.7.4\n",
            "Uninstalling faiss-cpu-1.7.4:\n",
            "  Would remove:\n",
            "    /usr/local/lib/python3.10/dist-packages/faiss/_swigfaiss_avx2.cpython-310-x86_64-linux-gnu.so\n",
            "    /usr/local/lib/python3.10/dist-packages/faiss/array_conversions.py\n",
            "    /usr/local/lib/python3.10/dist-packages/faiss/class_wrappers.py\n",
            "    /usr/local/lib/python3.10/dist-packages/faiss/contrib/clustering.py\n",
            "    /usr/local/lib/python3.10/dist-packages/faiss/extra_wrappers.py\n",
            "    /usr/local/lib/python3.10/dist-packages/faiss/gpu_wrappers.py\n",
            "    /usr/local/lib/python3.10/dist-packages/faiss/swigfaiss_avx2.py\n",
            "    /usr/local/lib/python3.10/dist-packages/faiss_cpu-1.7.4.dist-info/*\n",
            "    /usr/local/lib/python3.10/dist-packages/faiss_cpu.libs/libgfortran-040039e1.so.5.0.0\n",
            "    /usr/local/lib/python3.10/dist-packages/faiss_cpu.libs/libgomp-a34b3233.so.1.0.0\n",
            "    /usr/local/lib/python3.10/dist-packages/faiss_cpu.libs/libquadmath-96973f99.so.0.0.0\n",
            "Proceed (Y/n)? Y\n",
            "  Successfully uninstalled faiss-cpu-1.7.4\n",
            "Collecting faiss-gpu\n",
            "  Using cached faiss_gpu-1.7.2-cp310-cp310-manylinux_2_17_x86_64.manylinux2014_x86_64.whl (85.5 MB)\n",
            "Installing collected packages: faiss-gpu\n",
            "Successfully installed faiss-gpu-1.7.2\n"
          ]
        }
      ]
    },
    {
      "cell_type": "code",
      "source": [
        "!pip show faiss-gpu"
      ],
      "metadata": {
        "colab": {
          "base_uri": "https://localhost:8080/"
        },
        "id": "jfeAzZ1F3LQ9",
        "outputId": "1e1cb9da-dbb4-49d0-e38a-3f7aafae7677"
      },
      "execution_count": 16,
      "outputs": [
        {
          "output_type": "stream",
          "name": "stdout",
          "text": [
            "Name: faiss-gpu\n",
            "Version: 1.7.2\n",
            "Summary: A library for efficient similarity search and clustering of dense vectors.\n",
            "Home-page: https://github.com/kyamagu/faiss-wheels\n",
            "Author: Kota Yamaguchi\n",
            "Author-email: KotaYamaguchi1984@gmail.com\n",
            "License: MIT\n",
            "Location: /usr/local/lib/python3.10/dist-packages\n",
            "Requires: \n",
            "Required-by: \n"
          ]
        }
      ]
    },
    {
      "cell_type": "code",
      "source": [
        "from google.colab import drive\n",
        "drive.mount('/content/drive')"
      ],
      "metadata": {
        "id": "RVCcTGjxMMf9",
        "colab": {
          "base_uri": "https://localhost:8080/"
        },
        "outputId": "c2f3e341-476f-4931-e75d-ab0a27494caa"
      },
      "execution_count": 17,
      "outputs": [
        {
          "output_type": "stream",
          "name": "stdout",
          "text": [
            "Drive already mounted at /content/drive; to attempt to forcibly remount, call drive.mount(\"/content/drive\", force_remount=True).\n"
          ]
        }
      ]
    },
    {
      "cell_type": "code",
      "source": [
        "%env PYTHONPATH=/content/patchcore-inspection/src\n",
        "!env PYTHONPATH=/content/patchcore-inspection/src  python /content/patchcore-inspection/bin/run_patchcore.py\n",
        "!pip install /content/patchcore-inspection/"
      ],
      "metadata": {
        "id": "xjmPJCsnNm9d",
        "colab": {
          "base_uri": "https://localhost:8080/"
        },
        "outputId": "35abc2a1-510f-4bc0-8c25-401ad4617b45"
      },
      "execution_count": 15,
      "outputs": [
        {
          "output_type": "stream",
          "name": "stdout",
          "text": [
            "env: PYTHONPATH=/content/patchcore-inspection/src\n",
            "INFO:__main__:Command line arguments: /content/patchcore-inspection/bin/run_patchcore.py\n",
            "Usage: run_patchcore.py [OPTIONS] RESULTS_PATH COMMAND1 [ARGS]... [COMMAND2\n",
            "                        [ARGS]...]...\n",
            "\n",
            "Options:\n",
            "  --gpu INTEGER               [default: 0]\n",
            "  --seed INTEGER              [default: 0]\n",
            "  --log_group TEXT\n",
            "  --log_project TEXT\n",
            "  --save_segmentation_images\n",
            "  --save_patchcore_model\n",
            "  --help                      Show this message and exit.\n",
            "\n",
            "Commands:\n",
            "  dataset\n",
            "  patch_core\n",
            "  sampler\n",
            "Processing ./patchcore-inspection\n",
            "  Installing build dependencies ... \u001b[?25l\u001b[?25hdone\n",
            "  Getting requirements to build wheel ... \u001b[?25l\u001b[?25hdone\n",
            "  Preparing metadata (pyproject.toml) ... \u001b[?25l\u001b[?25hdone\n",
            "Requirement already satisfied: click>=8.0.3 in /usr/local/lib/python3.10/dist-packages (from patchcore==0.1.0) (8.0.3)\n",
            "Collecting faiss-cpu (from patchcore==0.1.0)\n",
            "  Using cached faiss_cpu-1.7.4-cp310-cp310-manylinux_2_17_x86_64.manylinux2014_x86_64.whl (17.6 MB)\n",
            "Requirement already satisfied: matplotlib>=3.5.0 in /usr/local/lib/python3.10/dist-packages (from patchcore==0.1.0) (3.7.1)\n",
            "Requirement already satisfied: pillow>=8.4.0 in /usr/local/lib/python3.10/dist-packages (from patchcore==0.1.0) (9.4.0)\n",
            "Requirement already satisfied: pretrainedmodels>=0.7.4 in /usr/local/lib/python3.10/dist-packages (from patchcore==0.1.0) (0.7.4)\n",
            "Requirement already satisfied: torch>=1.10.0 in /usr/local/lib/python3.10/dist-packages (from patchcore==0.1.0) (2.1.0+cu118)\n",
            "Requirement already satisfied: scikit-image>=0.18.3 in /usr/local/lib/python3.10/dist-packages (from patchcore==0.1.0) (0.19.3)\n",
            "Requirement already satisfied: scikit-learn>=1.0.1 in /usr/local/lib/python3.10/dist-packages (from patchcore==0.1.0) (1.2.2)\n",
            "Requirement already satisfied: scipy>=1.7.1 in /usr/local/lib/python3.10/dist-packages (from patchcore==0.1.0) (1.11.3)\n",
            "Requirement already satisfied: torchvision>=0.11.1 in /usr/local/lib/python3.10/dist-packages (from patchcore==0.1.0) (0.16.0+cu118)\n",
            "Requirement already satisfied: tqdm>=4.62.3 in /usr/local/lib/python3.10/dist-packages (from patchcore==0.1.0) (4.66.1)\n",
            "Requirement already satisfied: contourpy>=1.0.1 in /usr/local/lib/python3.10/dist-packages (from matplotlib>=3.5.0->patchcore==0.1.0) (1.2.0)\n",
            "Requirement already satisfied: cycler>=0.10 in /usr/local/lib/python3.10/dist-packages (from matplotlib>=3.5.0->patchcore==0.1.0) (0.12.1)\n",
            "Requirement already satisfied: fonttools>=4.22.0 in /usr/local/lib/python3.10/dist-packages (from matplotlib>=3.5.0->patchcore==0.1.0) (4.44.3)\n",
            "Requirement already satisfied: kiwisolver>=1.0.1 in /usr/local/lib/python3.10/dist-packages (from matplotlib>=3.5.0->patchcore==0.1.0) (1.4.5)\n",
            "Requirement already satisfied: numpy>=1.20 in /usr/local/lib/python3.10/dist-packages (from matplotlib>=3.5.0->patchcore==0.1.0) (1.23.5)\n",
            "Requirement already satisfied: packaging>=20.0 in /usr/local/lib/python3.10/dist-packages (from matplotlib>=3.5.0->patchcore==0.1.0) (23.2)\n",
            "Requirement already satisfied: pyparsing>=2.3.1 in /usr/local/lib/python3.10/dist-packages (from matplotlib>=3.5.0->patchcore==0.1.0) (3.1.1)\n",
            "Requirement already satisfied: python-dateutil>=2.7 in /usr/local/lib/python3.10/dist-packages (from matplotlib>=3.5.0->patchcore==0.1.0) (2.8.2)\n",
            "Requirement already satisfied: munch in /usr/local/lib/python3.10/dist-packages (from pretrainedmodels>=0.7.4->patchcore==0.1.0) (4.0.0)\n",
            "Requirement already satisfied: networkx>=2.2 in /usr/local/lib/python3.10/dist-packages (from scikit-image>=0.18.3->patchcore==0.1.0) (3.2.1)\n",
            "Requirement already satisfied: imageio>=2.4.1 in /usr/local/lib/python3.10/dist-packages (from scikit-image>=0.18.3->patchcore==0.1.0) (2.31.6)\n",
            "Requirement already satisfied: tifffile>=2019.7.26 in /usr/local/lib/python3.10/dist-packages (from scikit-image>=0.18.3->patchcore==0.1.0) (2023.9.26)\n",
            "Requirement already satisfied: PyWavelets>=1.1.1 in /usr/local/lib/python3.10/dist-packages (from scikit-image>=0.18.3->patchcore==0.1.0) (1.4.1)\n",
            "Requirement already satisfied: joblib>=1.1.1 in /usr/local/lib/python3.10/dist-packages (from scikit-learn>=1.0.1->patchcore==0.1.0) (1.3.2)\n",
            "Requirement already satisfied: threadpoolctl>=2.0.0 in /usr/local/lib/python3.10/dist-packages (from scikit-learn>=1.0.1->patchcore==0.1.0) (3.2.0)\n",
            "Requirement already satisfied: filelock in /usr/local/lib/python3.10/dist-packages (from torch>=1.10.0->patchcore==0.1.0) (3.13.1)\n",
            "Requirement already satisfied: typing-extensions in /usr/local/lib/python3.10/dist-packages (from torch>=1.10.0->patchcore==0.1.0) (4.5.0)\n",
            "Requirement already satisfied: sympy in /usr/local/lib/python3.10/dist-packages (from torch>=1.10.0->patchcore==0.1.0) (1.12)\n",
            "Requirement already satisfied: jinja2 in /usr/local/lib/python3.10/dist-packages (from torch>=1.10.0->patchcore==0.1.0) (3.1.2)\n",
            "Requirement already satisfied: fsspec in /usr/local/lib/python3.10/dist-packages (from torch>=1.10.0->patchcore==0.1.0) (2023.6.0)\n",
            "Requirement already satisfied: triton==2.1.0 in /usr/local/lib/python3.10/dist-packages (from torch>=1.10.0->patchcore==0.1.0) (2.1.0)\n",
            "Requirement already satisfied: requests in /usr/local/lib/python3.10/dist-packages (from torchvision>=0.11.1->patchcore==0.1.0) (2.31.0)\n",
            "Requirement already satisfied: six>=1.5 in /usr/local/lib/python3.10/dist-packages (from python-dateutil>=2.7->matplotlib>=3.5.0->patchcore==0.1.0) (1.16.0)\n",
            "Requirement already satisfied: MarkupSafe>=2.0 in /usr/local/lib/python3.10/dist-packages (from jinja2->torch>=1.10.0->patchcore==0.1.0) (2.1.3)\n",
            "Requirement already satisfied: charset-normalizer<4,>=2 in /usr/local/lib/python3.10/dist-packages (from requests->torchvision>=0.11.1->patchcore==0.1.0) (3.3.2)\n",
            "Requirement already satisfied: idna<4,>=2.5 in /usr/local/lib/python3.10/dist-packages (from requests->torchvision>=0.11.1->patchcore==0.1.0) (3.4)\n",
            "Requirement already satisfied: urllib3<3,>=1.21.1 in /usr/local/lib/python3.10/dist-packages (from requests->torchvision>=0.11.1->patchcore==0.1.0) (2.0.7)\n",
            "Requirement already satisfied: certifi>=2017.4.17 in /usr/local/lib/python3.10/dist-packages (from requests->torchvision>=0.11.1->patchcore==0.1.0) (2023.7.22)\n",
            "Requirement already satisfied: mpmath>=0.19 in /usr/local/lib/python3.10/dist-packages (from sympy->torch>=1.10.0->patchcore==0.1.0) (1.3.0)\n",
            "Building wheels for collected packages: patchcore\n",
            "  Building wheel for patchcore (pyproject.toml) ... \u001b[?25l\u001b[?25hdone\n",
            "  Created wheel for patchcore: filename=patchcore-0.1.0-py3-none-any.whl size=20339 sha256=2e1a0fe192f6f4e46b782cc12bfd67ff1bba97789e824bf570432b334f797686\n",
            "  Stored in directory: /root/.cache/pip/wheels/be/52/a7/9ba94d1ec1c4575647ffbbee136198d0c7ad6efcf7df38ea71\n",
            "Successfully built patchcore\n",
            "Installing collected packages: faiss-cpu, patchcore\n",
            "  Attempting uninstall: patchcore\n",
            "    Found existing installation: patchcore 0.1.0\n",
            "    Can't uninstall 'patchcore'. No files were found to uninstall.\n",
            "Successfully installed faiss-cpu-1.7.4 patchcore-0.1.0\n"
          ]
        }
      ]
    },
    {
      "cell_type": "code",
      "source": [
        "!pip install -r /content/patchcore-inspection/requirements.txt\n",
        "!pip install -r /content/patchcore-inspection/requirements_dev.txt"
      ],
      "metadata": {
        "id": "ifrAsS0ksSIF",
        "colab": {
          "base_uri": "https://localhost:8080/"
        },
        "outputId": "074783be-4861-4aa3-a5ce-43c4cc17b787"
      },
      "execution_count": 13,
      "outputs": [
        {
          "output_type": "stream",
          "name": "stdout",
          "text": [
            "Requirement already satisfied: click>=8.0.3 in /usr/local/lib/python3.10/dist-packages (from -r /content/patchcore-inspection/requirements.txt (line 1)) (8.0.3)\n",
            "Requirement already satisfied: faiss-cpu in /usr/local/lib/python3.10/dist-packages (from -r /content/patchcore-inspection/requirements.txt (line 3)) (1.7.4)\n",
            "Requirement already satisfied: matplotlib>=3.5.0 in /usr/local/lib/python3.10/dist-packages (from -r /content/patchcore-inspection/requirements.txt (line 5)) (3.7.1)\n",
            "Requirement already satisfied: pillow>=8.4.0 in /usr/local/lib/python3.10/dist-packages (from -r /content/patchcore-inspection/requirements.txt (line 6)) (9.4.0)\n",
            "Requirement already satisfied: pretrainedmodels>=0.7.4 in /usr/local/lib/python3.10/dist-packages (from -r /content/patchcore-inspection/requirements.txt (line 7)) (0.7.4)\n",
            "Requirement already satisfied: torch>=1.10.0 in /usr/local/lib/python3.10/dist-packages (from -r /content/patchcore-inspection/requirements.txt (line 8)) (2.1.0+cu118)\n",
            "Requirement already satisfied: scikit-image>=0.18.3 in /usr/local/lib/python3.10/dist-packages (from -r /content/patchcore-inspection/requirements.txt (line 9)) (0.19.3)\n",
            "Requirement already satisfied: scikit-learn>=1.0.1 in /usr/local/lib/python3.10/dist-packages (from -r /content/patchcore-inspection/requirements.txt (line 10)) (1.2.2)\n",
            "Requirement already satisfied: scipy>=1.7.1 in /usr/local/lib/python3.10/dist-packages (from -r /content/patchcore-inspection/requirements.txt (line 11)) (1.11.3)\n",
            "Requirement already satisfied: torchvision>=0.11.1 in /usr/local/lib/python3.10/dist-packages (from -r /content/patchcore-inspection/requirements.txt (line 12)) (0.16.0+cu118)\n",
            "Requirement already satisfied: tqdm>=4.62.3 in /usr/local/lib/python3.10/dist-packages (from -r /content/patchcore-inspection/requirements.txt (line 13)) (4.66.1)\n",
            "Requirement already satisfied: contourpy>=1.0.1 in /usr/local/lib/python3.10/dist-packages (from matplotlib>=3.5.0->-r /content/patchcore-inspection/requirements.txt (line 5)) (1.2.0)\n",
            "Requirement already satisfied: cycler>=0.10 in /usr/local/lib/python3.10/dist-packages (from matplotlib>=3.5.0->-r /content/patchcore-inspection/requirements.txt (line 5)) (0.12.1)\n",
            "Requirement already satisfied: fonttools>=4.22.0 in /usr/local/lib/python3.10/dist-packages (from matplotlib>=3.5.0->-r /content/patchcore-inspection/requirements.txt (line 5)) (4.44.3)\n",
            "Requirement already satisfied: kiwisolver>=1.0.1 in /usr/local/lib/python3.10/dist-packages (from matplotlib>=3.5.0->-r /content/patchcore-inspection/requirements.txt (line 5)) (1.4.5)\n",
            "Requirement already satisfied: numpy>=1.20 in /usr/local/lib/python3.10/dist-packages (from matplotlib>=3.5.0->-r /content/patchcore-inspection/requirements.txt (line 5)) (1.23.5)\n",
            "Requirement already satisfied: packaging>=20.0 in /usr/local/lib/python3.10/dist-packages (from matplotlib>=3.5.0->-r /content/patchcore-inspection/requirements.txt (line 5)) (23.2)\n",
            "Requirement already satisfied: pyparsing>=2.3.1 in /usr/local/lib/python3.10/dist-packages (from matplotlib>=3.5.0->-r /content/patchcore-inspection/requirements.txt (line 5)) (3.1.1)\n",
            "Requirement already satisfied: python-dateutil>=2.7 in /usr/local/lib/python3.10/dist-packages (from matplotlib>=3.5.0->-r /content/patchcore-inspection/requirements.txt (line 5)) (2.8.2)\n",
            "Requirement already satisfied: munch in /usr/local/lib/python3.10/dist-packages (from pretrainedmodels>=0.7.4->-r /content/patchcore-inspection/requirements.txt (line 7)) (4.0.0)\n",
            "Requirement already satisfied: filelock in /usr/local/lib/python3.10/dist-packages (from torch>=1.10.0->-r /content/patchcore-inspection/requirements.txt (line 8)) (3.13.1)\n",
            "Requirement already satisfied: typing-extensions in /usr/local/lib/python3.10/dist-packages (from torch>=1.10.0->-r /content/patchcore-inspection/requirements.txt (line 8)) (4.5.0)\n",
            "Requirement already satisfied: sympy in /usr/local/lib/python3.10/dist-packages (from torch>=1.10.0->-r /content/patchcore-inspection/requirements.txt (line 8)) (1.12)\n",
            "Requirement already satisfied: networkx in /usr/local/lib/python3.10/dist-packages (from torch>=1.10.0->-r /content/patchcore-inspection/requirements.txt (line 8)) (3.2.1)\n",
            "Requirement already satisfied: jinja2 in /usr/local/lib/python3.10/dist-packages (from torch>=1.10.0->-r /content/patchcore-inspection/requirements.txt (line 8)) (3.1.2)\n",
            "Requirement already satisfied: fsspec in /usr/local/lib/python3.10/dist-packages (from torch>=1.10.0->-r /content/patchcore-inspection/requirements.txt (line 8)) (2023.6.0)\n",
            "Requirement already satisfied: triton==2.1.0 in /usr/local/lib/python3.10/dist-packages (from torch>=1.10.0->-r /content/patchcore-inspection/requirements.txt (line 8)) (2.1.0)\n",
            "Requirement already satisfied: imageio>=2.4.1 in /usr/local/lib/python3.10/dist-packages (from scikit-image>=0.18.3->-r /content/patchcore-inspection/requirements.txt (line 9)) (2.31.6)\n",
            "Requirement already satisfied: tifffile>=2019.7.26 in /usr/local/lib/python3.10/dist-packages (from scikit-image>=0.18.3->-r /content/patchcore-inspection/requirements.txt (line 9)) (2023.9.26)\n",
            "Requirement already satisfied: PyWavelets>=1.1.1 in /usr/local/lib/python3.10/dist-packages (from scikit-image>=0.18.3->-r /content/patchcore-inspection/requirements.txt (line 9)) (1.4.1)\n",
            "Requirement already satisfied: joblib>=1.1.1 in /usr/local/lib/python3.10/dist-packages (from scikit-learn>=1.0.1->-r /content/patchcore-inspection/requirements.txt (line 10)) (1.3.2)\n",
            "Requirement already satisfied: threadpoolctl>=2.0.0 in /usr/local/lib/python3.10/dist-packages (from scikit-learn>=1.0.1->-r /content/patchcore-inspection/requirements.txt (line 10)) (3.2.0)\n",
            "Requirement already satisfied: requests in /usr/local/lib/python3.10/dist-packages (from torchvision>=0.11.1->-r /content/patchcore-inspection/requirements.txt (line 12)) (2.31.0)\n",
            "Requirement already satisfied: six>=1.5 in /usr/local/lib/python3.10/dist-packages (from python-dateutil>=2.7->matplotlib>=3.5.0->-r /content/patchcore-inspection/requirements.txt (line 5)) (1.16.0)\n",
            "Requirement already satisfied: MarkupSafe>=2.0 in /usr/local/lib/python3.10/dist-packages (from jinja2->torch>=1.10.0->-r /content/patchcore-inspection/requirements.txt (line 8)) (2.1.3)\n",
            "Requirement already satisfied: charset-normalizer<4,>=2 in /usr/local/lib/python3.10/dist-packages (from requests->torchvision>=0.11.1->-r /content/patchcore-inspection/requirements.txt (line 12)) (3.3.2)\n",
            "Requirement already satisfied: idna<4,>=2.5 in /usr/local/lib/python3.10/dist-packages (from requests->torchvision>=0.11.1->-r /content/patchcore-inspection/requirements.txt (line 12)) (3.4)\n",
            "Requirement already satisfied: urllib3<3,>=1.21.1 in /usr/local/lib/python3.10/dist-packages (from requests->torchvision>=0.11.1->-r /content/patchcore-inspection/requirements.txt (line 12)) (2.0.7)\n",
            "Requirement already satisfied: certifi>=2017.4.17 in /usr/local/lib/python3.10/dist-packages (from requests->torchvision>=0.11.1->-r /content/patchcore-inspection/requirements.txt (line 12)) (2023.7.22)\n",
            "Requirement already satisfied: mpmath>=0.19 in /usr/local/lib/python3.10/dist-packages (from sympy->torch>=1.10.0->-r /content/patchcore-inspection/requirements.txt (line 8)) (1.3.0)\n",
            "Requirement already satisfied: click>=8.0.3 in /usr/local/lib/python3.10/dist-packages (from -r /content/patchcore-inspection/requirements.txt (line 1)) (8.0.3)\n",
            "Requirement already satisfied: faiss-cpu in /usr/local/lib/python3.10/dist-packages (from -r /content/patchcore-inspection/requirements.txt (line 3)) (1.7.4)\n",
            "Requirement already satisfied: matplotlib>=3.5.0 in /usr/local/lib/python3.10/dist-packages (from -r /content/patchcore-inspection/requirements.txt (line 5)) (3.7.1)\n",
            "Requirement already satisfied: pillow>=8.4.0 in /usr/local/lib/python3.10/dist-packages (from -r /content/patchcore-inspection/requirements.txt (line 6)) (9.4.0)\n",
            "Requirement already satisfied: pretrainedmodels>=0.7.4 in /usr/local/lib/python3.10/dist-packages (from -r /content/patchcore-inspection/requirements.txt (line 7)) (0.7.4)\n",
            "Requirement already satisfied: torch>=1.10.0 in /usr/local/lib/python3.10/dist-packages (from -r /content/patchcore-inspection/requirements.txt (line 8)) (2.1.0+cu118)\n",
            "Requirement already satisfied: scikit-image>=0.18.3 in /usr/local/lib/python3.10/dist-packages (from -r /content/patchcore-inspection/requirements.txt (line 9)) (0.19.3)\n",
            "Requirement already satisfied: scikit-learn>=1.0.1 in /usr/local/lib/python3.10/dist-packages (from -r /content/patchcore-inspection/requirements.txt (line 10)) (1.2.2)\n",
            "Requirement already satisfied: scipy>=1.7.1 in /usr/local/lib/python3.10/dist-packages (from -r /content/patchcore-inspection/requirements.txt (line 11)) (1.11.3)\n",
            "Requirement already satisfied: torchvision>=0.11.1 in /usr/local/lib/python3.10/dist-packages (from -r /content/patchcore-inspection/requirements.txt (line 12)) (0.16.0+cu118)\n",
            "Requirement already satisfied: tqdm>=4.62.3 in /usr/local/lib/python3.10/dist-packages (from -r /content/patchcore-inspection/requirements.txt (line 13)) (4.66.1)\n",
            "Requirement already satisfied: black>=21.11b0 in /usr/local/lib/python3.10/dist-packages (from -r /content/patchcore-inspection/requirements_dev.txt (line 2)) (23.11.0)\n",
            "Requirement already satisfied: flake8>=4.0.1 in /usr/local/lib/python3.10/dist-packages (from -r /content/patchcore-inspection/requirements_dev.txt (line 3)) (6.1.0)\n",
            "Requirement already satisfied: isort>=5.10.1 in /usr/local/lib/python3.10/dist-packages (from -r /content/patchcore-inspection/requirements_dev.txt (line 4)) (5.12.0)\n",
            "Requirement already satisfied: pytest>=6.2.5 in /usr/local/lib/python3.10/dist-packages (from -r /content/patchcore-inspection/requirements_dev.txt (line 5)) (7.4.3)\n",
            "Requirement already satisfied: contourpy>=1.0.1 in /usr/local/lib/python3.10/dist-packages (from matplotlib>=3.5.0->-r /content/patchcore-inspection/requirements.txt (line 5)) (1.2.0)\n",
            "Requirement already satisfied: cycler>=0.10 in /usr/local/lib/python3.10/dist-packages (from matplotlib>=3.5.0->-r /content/patchcore-inspection/requirements.txt (line 5)) (0.12.1)\n",
            "Requirement already satisfied: fonttools>=4.22.0 in /usr/local/lib/python3.10/dist-packages (from matplotlib>=3.5.0->-r /content/patchcore-inspection/requirements.txt (line 5)) (4.44.3)\n",
            "Requirement already satisfied: kiwisolver>=1.0.1 in /usr/local/lib/python3.10/dist-packages (from matplotlib>=3.5.0->-r /content/patchcore-inspection/requirements.txt (line 5)) (1.4.5)\n",
            "Requirement already satisfied: numpy>=1.20 in /usr/local/lib/python3.10/dist-packages (from matplotlib>=3.5.0->-r /content/patchcore-inspection/requirements.txt (line 5)) (1.23.5)\n",
            "Requirement already satisfied: packaging>=20.0 in /usr/local/lib/python3.10/dist-packages (from matplotlib>=3.5.0->-r /content/patchcore-inspection/requirements.txt (line 5)) (23.2)\n",
            "Requirement already satisfied: pyparsing>=2.3.1 in /usr/local/lib/python3.10/dist-packages (from matplotlib>=3.5.0->-r /content/patchcore-inspection/requirements.txt (line 5)) (3.1.1)\n",
            "Requirement already satisfied: python-dateutil>=2.7 in /usr/local/lib/python3.10/dist-packages (from matplotlib>=3.5.0->-r /content/patchcore-inspection/requirements.txt (line 5)) (2.8.2)\n",
            "Requirement already satisfied: munch in /usr/local/lib/python3.10/dist-packages (from pretrainedmodels>=0.7.4->-r /content/patchcore-inspection/requirements.txt (line 7)) (4.0.0)\n",
            "Requirement already satisfied: filelock in /usr/local/lib/python3.10/dist-packages (from torch>=1.10.0->-r /content/patchcore-inspection/requirements.txt (line 8)) (3.13.1)\n",
            "Requirement already satisfied: typing-extensions in /usr/local/lib/python3.10/dist-packages (from torch>=1.10.0->-r /content/patchcore-inspection/requirements.txt (line 8)) (4.5.0)\n",
            "Requirement already satisfied: sympy in /usr/local/lib/python3.10/dist-packages (from torch>=1.10.0->-r /content/patchcore-inspection/requirements.txt (line 8)) (1.12)\n",
            "Requirement already satisfied: networkx in /usr/local/lib/python3.10/dist-packages (from torch>=1.10.0->-r /content/patchcore-inspection/requirements.txt (line 8)) (3.2.1)\n",
            "Requirement already satisfied: jinja2 in /usr/local/lib/python3.10/dist-packages (from torch>=1.10.0->-r /content/patchcore-inspection/requirements.txt (line 8)) (3.1.2)\n",
            "Requirement already satisfied: fsspec in /usr/local/lib/python3.10/dist-packages (from torch>=1.10.0->-r /content/patchcore-inspection/requirements.txt (line 8)) (2023.6.0)\n",
            "Requirement already satisfied: triton==2.1.0 in /usr/local/lib/python3.10/dist-packages (from torch>=1.10.0->-r /content/patchcore-inspection/requirements.txt (line 8)) (2.1.0)\n",
            "Requirement already satisfied: imageio>=2.4.1 in /usr/local/lib/python3.10/dist-packages (from scikit-image>=0.18.3->-r /content/patchcore-inspection/requirements.txt (line 9)) (2.31.6)\n",
            "Requirement already satisfied: tifffile>=2019.7.26 in /usr/local/lib/python3.10/dist-packages (from scikit-image>=0.18.3->-r /content/patchcore-inspection/requirements.txt (line 9)) (2023.9.26)\n",
            "Requirement already satisfied: PyWavelets>=1.1.1 in /usr/local/lib/python3.10/dist-packages (from scikit-image>=0.18.3->-r /content/patchcore-inspection/requirements.txt (line 9)) (1.4.1)\n",
            "Requirement already satisfied: joblib>=1.1.1 in /usr/local/lib/python3.10/dist-packages (from scikit-learn>=1.0.1->-r /content/patchcore-inspection/requirements.txt (line 10)) (1.3.2)\n",
            "Requirement already satisfied: threadpoolctl>=2.0.0 in /usr/local/lib/python3.10/dist-packages (from scikit-learn>=1.0.1->-r /content/patchcore-inspection/requirements.txt (line 10)) (3.2.0)\n",
            "Requirement already satisfied: requests in /usr/local/lib/python3.10/dist-packages (from torchvision>=0.11.1->-r /content/patchcore-inspection/requirements.txt (line 12)) (2.31.0)\n",
            "Requirement already satisfied: mypy-extensions>=0.4.3 in /usr/local/lib/python3.10/dist-packages (from black>=21.11b0->-r /content/patchcore-inspection/requirements_dev.txt (line 2)) (1.0.0)\n",
            "Requirement already satisfied: pathspec>=0.9.0 in /usr/local/lib/python3.10/dist-packages (from black>=21.11b0->-r /content/patchcore-inspection/requirements_dev.txt (line 2)) (0.11.2)\n",
            "Requirement already satisfied: platformdirs>=2 in /usr/local/lib/python3.10/dist-packages (from black>=21.11b0->-r /content/patchcore-inspection/requirements_dev.txt (line 2)) (4.0.0)\n",
            "Requirement already satisfied: tomli>=1.1.0 in /usr/local/lib/python3.10/dist-packages (from black>=21.11b0->-r /content/patchcore-inspection/requirements_dev.txt (line 2)) (2.0.1)\n",
            "Requirement already satisfied: mccabe<0.8.0,>=0.7.0 in /usr/local/lib/python3.10/dist-packages (from flake8>=4.0.1->-r /content/patchcore-inspection/requirements_dev.txt (line 3)) (0.7.0)\n",
            "Requirement already satisfied: pycodestyle<2.12.0,>=2.11.0 in /usr/local/lib/python3.10/dist-packages (from flake8>=4.0.1->-r /content/patchcore-inspection/requirements_dev.txt (line 3)) (2.11.1)\n",
            "Requirement already satisfied: pyflakes<3.2.0,>=3.1.0 in /usr/local/lib/python3.10/dist-packages (from flake8>=4.0.1->-r /content/patchcore-inspection/requirements_dev.txt (line 3)) (3.1.0)\n",
            "Requirement already satisfied: iniconfig in /usr/local/lib/python3.10/dist-packages (from pytest>=6.2.5->-r /content/patchcore-inspection/requirements_dev.txt (line 5)) (2.0.0)\n",
            "Requirement already satisfied: pluggy<2.0,>=0.12 in /usr/local/lib/python3.10/dist-packages (from pytest>=6.2.5->-r /content/patchcore-inspection/requirements_dev.txt (line 5)) (1.3.0)\n",
            "Requirement already satisfied: exceptiongroup>=1.0.0rc8 in /usr/local/lib/python3.10/dist-packages (from pytest>=6.2.5->-r /content/patchcore-inspection/requirements_dev.txt (line 5)) (1.1.3)\n",
            "Requirement already satisfied: six>=1.5 in /usr/local/lib/python3.10/dist-packages (from python-dateutil>=2.7->matplotlib>=3.5.0->-r /content/patchcore-inspection/requirements.txt (line 5)) (1.16.0)\n",
            "Requirement already satisfied: MarkupSafe>=2.0 in /usr/local/lib/python3.10/dist-packages (from jinja2->torch>=1.10.0->-r /content/patchcore-inspection/requirements.txt (line 8)) (2.1.3)\n",
            "Requirement already satisfied: charset-normalizer<4,>=2 in /usr/local/lib/python3.10/dist-packages (from requests->torchvision>=0.11.1->-r /content/patchcore-inspection/requirements.txt (line 12)) (3.3.2)\n",
            "Requirement already satisfied: idna<4,>=2.5 in /usr/local/lib/python3.10/dist-packages (from requests->torchvision>=0.11.1->-r /content/patchcore-inspection/requirements.txt (line 12)) (3.4)\n",
            "Requirement already satisfied: urllib3<3,>=1.21.1 in /usr/local/lib/python3.10/dist-packages (from requests->torchvision>=0.11.1->-r /content/patchcore-inspection/requirements.txt (line 12)) (2.0.7)\n",
            "Requirement already satisfied: certifi>=2017.4.17 in /usr/local/lib/python3.10/dist-packages (from requests->torchvision>=0.11.1->-r /content/patchcore-inspection/requirements.txt (line 12)) (2023.7.22)\n",
            "Requirement already satisfied: mpmath>=0.19 in /usr/local/lib/python3.10/dist-packages (from sympy->torch>=1.10.0->-r /content/patchcore-inspection/requirements.txt (line 8)) (1.3.0)\n"
          ]
        }
      ]
    },
    {
      "cell_type": "code",
      "source": [
        "datapath = \"/content/drive/MyDrive/mvtec\"\n",
        "datasets = ['bottle', 'cable', 'capsule', 'carpet', 'grid', 'hazelnut',\n",
        "            'leather', 'metal_nut', 'pill', 'screw', 'tile', 'toothbrush', 'transistor', 'wood', 'zipper']\n",
        "dataset_flags = ' '.join(['-d ' + dataset for dataset in datasets])\n",
        "\n",
        "print(datapath)\n",
        "print(dataset_flags)"
      ],
      "metadata": {
        "id": "bVEAzkizMox2"
      },
      "execution_count": null,
      "outputs": []
    },
    {
      "cell_type": "markdown",
      "source": [
        "**Training phase code**"
      ],
      "metadata": {
        "id": "GBsR0wz6RR5o"
      }
    },
    {
      "cell_type": "code",
      "source": [
        "!python /content/patchcore-inspection/bin/run_patchcore.py --gpu 0 --seed 0 --save_patchcore_model --log_group IM224_WR50_L2-3_P01_D1024-1024_PS-3_AN-1_S0 --log_project MVTecAD_Results results patch_core -b wideresnet50 -le layer2 -le layer3 --pretrain_embed_dimension 1024 --target_embed_dimension 1024 --anomaly_scorer_num_nn 1 --patchsize 3 sampler -p 0.1 approx_greedy_coreset dataset --resize 256 --imagesize 224 --subdatasets \"bottle\"   mvtec \"/content/drive/MyDrive/mvtec\""
      ],
      "metadata": {
        "id": "7T8EptK0FgAc",
        "colab": {
          "base_uri": "https://localhost:8080/"
        },
        "outputId": "1d0d3fb4-defd-409a-95cb-bdcb494bb476"
      },
      "execution_count": 18,
      "outputs": [
        {
          "output_type": "stream",
          "name": "stdout",
          "text": [
            "INFO:__main__:Command line arguments: /content/patchcore-inspection/bin/run_patchcore.py --gpu 0 --seed 0 --save_patchcore_model --log_group IM224_WR50_L2-3_P01_D1024-1024_PS-3_AN-1_S0 --log_project MVTecAD_Results results patch_core -b wideresnet50 -le layer2 -le layer3 --pretrain_embed_dimension 1024 --target_embed_dimension 1024 --anomaly_scorer_num_nn 1 --patchsize 3 sampler -p 0.1 approx_greedy_coreset dataset --resize 256 --imagesize 224 --subdatasets bottle mvtec /content/drive/MyDrive/mvtec\n",
            "/usr/local/lib/python3.10/dist-packages/torch/utils/data/dataloader.py:557: UserWarning: This DataLoader will create 8 worker processes in total. Our suggested max number of worker in current system is 2, which is smaller than what this DataLoader is going to create. Please be aware that excessive worker creation might get DataLoader running slow or even freeze, lower the worker number to avoid potential slowness/freeze if necessary.\n",
            "  warnings.warn(_create_warning_msg(\n",
            "INFO:__main__:Evaluating dataset [mvtec_bottle] (1/1)...\n",
            "/usr/local/lib/python3.10/dist-packages/torchvision/models/_utils.py:208: UserWarning: The parameter 'pretrained' is deprecated since 0.13 and may be removed in the future, please use 'weights' instead.\n",
            "  warnings.warn(\n",
            "/usr/local/lib/python3.10/dist-packages/torchvision/models/_utils.py:223: UserWarning: Arguments other than a weight enum or `None` for 'weights' are deprecated since 0.13 and may be removed in the future. The current behavior is equivalent to passing `weights=Wide_ResNet50_2_Weights.IMAGENET1K_V1`. You can also use `weights=Wide_ResNet50_2_Weights.DEFAULT` to get the most up-to-date weights.\n",
            "  warnings.warn(msg)\n",
            "INFO:__main__:Training models (1/1)\n",
            "\n",
            "Computing support features...:   0% 0/105 [00:00<?, ?it/s]\u001b[A\n",
            "Computing support features...:   1% 1/105 [00:01<02:46,  1.60s/it]\u001b[A\n",
            "Computing support features...:   2% 2/105 [00:01<01:20,  1.28it/s]\u001b[A\n",
            "Computing support features...:   3% 3/105 [00:01<00:48,  2.12it/s]\u001b[A\n",
            "Computing support features...:   5% 5/105 [00:02<00:25,  3.89it/s]\u001b[A\n",
            "Computing support features...:   7% 7/105 [00:02<00:17,  5.45it/s]\u001b[A\n",
            "Computing support features...:   9% 9/105 [00:02<00:14,  6.76it/s]\u001b[A\n",
            "Computing support features...:  10% 10/105 [00:02<00:13,  7.27it/s]\u001b[A\n",
            "Computing support features...:  11% 12/105 [00:02<00:10,  8.47it/s]\u001b[A\n",
            "Computing support features...:  13% 14/105 [00:02<00:09,  9.42it/s]\u001b[A\n",
            "Computing support features...:  15% 16/105 [00:03<00:08, 10.02it/s]\u001b[A\n",
            "Computing support features...:  17% 18/105 [00:03<00:11,  7.29it/s]\u001b[A\n",
            "Computing support features...:  18% 19/105 [00:03<00:11,  7.42it/s]\u001b[A\n",
            "Computing support features...:  19% 20/105 [00:03<00:11,  7.58it/s]\u001b[A\n",
            "Computing support features...:  20% 21/105 [00:03<00:11,  7.26it/s]\u001b[A\n",
            "Computing support features...:  21% 22/105 [00:04<00:11,  7.22it/s]\u001b[A\n",
            "Computing support features...:  22% 23/105 [00:04<00:10,  7.64it/s]\u001b[A\n",
            "Computing support features...:  23% 24/105 [00:04<00:13,  6.16it/s]\u001b[A\n",
            "Computing support features...:  24% 25/105 [00:04<00:14,  5.56it/s]\u001b[A\n",
            "Computing support features...:  25% 26/105 [00:04<00:14,  5.63it/s]\u001b[A\n",
            "Computing support features...:  26% 27/105 [00:05<00:17,  4.54it/s]\u001b[A\n",
            "Computing support features...:  27% 28/105 [00:05<00:18,  4.26it/s]\u001b[A\n",
            "Computing support features...:  28% 29/105 [00:05<00:18,  4.20it/s]\u001b[A\n",
            "Computing support features...:  29% 30/105 [00:05<00:16,  4.49it/s]\u001b[A\n",
            "Computing support features...:  30% 31/105 [00:06<00:16,  4.38it/s]\u001b[A\n",
            "Computing support features...:  30% 32/105 [00:06<00:17,  4.17it/s]\u001b[A\n",
            "Computing support features...:  31% 33/105 [00:06<00:18,  3.93it/s]\u001b[A\n",
            "Computing support features...:  32% 34/105 [00:06<00:17,  4.03it/s]\u001b[A\n",
            "Computing support features...:  33% 35/105 [00:07<00:16,  4.25it/s]\u001b[A\n",
            "Computing support features...:  34% 36/105 [00:07<00:16,  4.18it/s]\u001b[A\n",
            "Computing support features...:  35% 37/105 [00:07<00:16,  4.06it/s]\u001b[A\n",
            "Computing support features...:  36% 38/105 [00:07<00:15,  4.39it/s]\u001b[A\n",
            "Computing support features...:  37% 39/105 [00:08<00:16,  3.90it/s]\u001b[A\n",
            "Computing support features...:  38% 40/105 [00:08<00:16,  3.91it/s]\u001b[A\n",
            "Computing support features...:  39% 41/105 [00:08<00:16,  3.96it/s]\u001b[A\n",
            "Computing support features...:  40% 42/105 [00:08<00:15,  4.12it/s]\u001b[A\n",
            "Computing support features...:  41% 43/105 [00:08<00:13,  4.59it/s]\u001b[A\n",
            "Computing support features...:  42% 44/105 [00:09<00:13,  4.36it/s]\u001b[A\n",
            "Computing support features...:  43% 45/105 [00:09<00:12,  4.70it/s]\u001b[A\n",
            "Computing support features...:  44% 46/105 [00:09<00:12,  4.55it/s]\u001b[A\n",
            "Computing support features...:  45% 47/105 [00:09<00:13,  4.28it/s]\u001b[A\n",
            "Computing support features...:  46% 48/105 [00:10<00:13,  4.32it/s]\u001b[A\n",
            "Computing support features...:  47% 49/105 [00:10<00:14,  3.99it/s]\u001b[A\n",
            "Computing support features...:  48% 50/105 [00:10<00:13,  4.02it/s]\u001b[A\n",
            "Computing support features...:  49% 51/105 [00:10<00:14,  3.81it/s]\u001b[A\n",
            "Computing support features...:  50% 52/105 [00:11<00:13,  3.86it/s]\u001b[A\n",
            "Computing support features...:  50% 53/105 [00:11<00:13,  3.87it/s]\u001b[A\n",
            "Computing support features...:  51% 54/105 [00:11<00:13,  3.90it/s]\u001b[A\n",
            "Computing support features...:  52% 55/105 [00:11<00:11,  4.41it/s]\u001b[A\n",
            "Computing support features...:  53% 56/105 [00:12<00:09,  4.93it/s]\u001b[A\n",
            "Computing support features...:  54% 57/105 [00:12<00:08,  5.59it/s]\u001b[A\n",
            "Computing support features...:  55% 58/105 [00:12<00:08,  5.47it/s]\u001b[A\n",
            "Computing support features...:  56% 59/105 [00:12<00:07,  5.82it/s]\u001b[A\n",
            "Computing support features...:  57% 60/105 [00:12<00:07,  6.11it/s]\u001b[A\n",
            "Computing support features...:  58% 61/105 [00:12<00:06,  6.85it/s]\u001b[A\n",
            "Computing support features...:  59% 62/105 [00:12<00:05,  7.36it/s]\u001b[A\n",
            "Computing support features...:  60% 63/105 [00:12<00:05,  7.84it/s]\u001b[A\n",
            "Computing support features...:  61% 64/105 [00:13<00:04,  8.38it/s]\u001b[A\n",
            "Computing support features...:  63% 66/105 [00:13<00:04,  9.39it/s]\u001b[A\n",
            "Computing support features...:  65% 68/105 [00:13<00:03, 10.05it/s]\u001b[A\n",
            "Computing support features...:  67% 70/105 [00:13<00:03, 10.62it/s]\u001b[A\n",
            "Computing support features...:  69% 72/105 [00:13<00:03,  8.50it/s]\u001b[A\n",
            "Computing support features...:  70% 74/105 [00:14<00:03,  9.31it/s]\u001b[A\n",
            "Computing support features...:  72% 76/105 [00:14<00:02, 10.07it/s]\u001b[A\n",
            "Computing support features...:  74% 78/105 [00:14<00:02, 10.58it/s]\u001b[A\n",
            "Computing support features...:  76% 80/105 [00:14<00:02, 10.96it/s]\u001b[A\n",
            "Computing support features...:  78% 82/105 [00:14<00:02, 11.13it/s]\u001b[A\n",
            "Computing support features...:  80% 84/105 [00:14<00:01, 11.56it/s]\u001b[A\n",
            "Computing support features...:  82% 86/105 [00:15<00:01, 11.18it/s]\u001b[A\n",
            "Computing support features...:  84% 88/105 [00:15<00:01, 11.68it/s]\u001b[A\n",
            "Computing support features...:  86% 90/105 [00:15<00:01, 12.11it/s]\u001b[A\n",
            "Computing support features...:  88% 92/105 [00:15<00:00, 13.15it/s]\u001b[A\n",
            "Computing support features...:  90% 94/105 [00:15<00:00, 13.98it/s]\u001b[A\n",
            "Computing support features...:  91% 96/105 [00:15<00:00, 14.84it/s]\u001b[A\n",
            "Computing support features...:  93% 98/105 [00:15<00:00, 15.55it/s]\u001b[A\n",
            "Computing support features...:  95% 100/105 [00:16<00:00, 15.95it/s]\u001b[A\n",
            "Computing support features...:  97% 102/105 [00:16<00:00, 16.40it/s]\u001b[A\n",
            "Computing support features...:  99% 104/105 [00:16<00:00, 16.86it/s]\u001b[A\n",
            "Subsampling...: 100% 16385/16385 [00:20<00:00, 789.56it/s]\n",
            "INFO:__main__:Embedding test data with models (1/1)\n",
            "INFO:__main__:Computing evaluation metrics.\n",
            "INFO:__main__:instance_auroc: 1.000\n",
            "INFO:__main__:full_pixel_auroc: 0.985\n",
            "INFO:__main__:anomaly_pixel_auroc: 0.980\n",
            "INFO:patchcore.patchcore:Saving PatchCore data.\n",
            "INFO:__main__:\n",
            "\n",
            "-----\n",
            "\n",
            "INFO:patchcore.utils:instance_auroc: 1.000\n",
            "INFO:patchcore.utils:full_pixel_auroc: 0.985\n",
            "INFO:patchcore.utils:anomaly_pixel_auroc: 0.980\n"
          ]
        }
      ]
    },
    {
      "cell_type": "code",
      "source": [
        "# Set the correct paths\n",
        "datapath = \"/content/patchcore-inspection/bin/run_patchcore.py\"\n",
        "datasets = ['bottle', 'cable', 'capsule', 'carpet', 'grid', 'hazelnut', 'leather', 'metal_nut', 'pill', 'screw', 'tile', 'toothbrush', 'transistor', 'wood', 'zipper']\n",
        "\n",
        "# Create dataset_flags using list comprehension\n",
        "dataset_flags = ['-d ' + dataset for dataset in datasets]\n",
        "\n",
        "# Execute the script in Colab\n",
        "!python \"/content/patchcore-inspection/bin/run_patchcore.py\" --gpu 0 --seed 0 --save_patchcore_model --log_group IM224_WR50_L2-3_P01_D1024-1024_PS-3_AN-1_S0 --log_project MVTecAD_Results results patch_core -b wideresnet50 -le layer2 -le layer3 --faiss_on_gpu --pretrain_embed_dimension 1024 --target_embed_dimension 1024 --anomaly_scorer_num_nn 1 --patchsize 3 sampler -p 0.1 approx_greedy_coreset dataset --resize 256 --imagesize 224 {' '.join(dataset_flags)} mvtec \"/content/drive/MyDrive/mvtec\""
      ],
      "metadata": {
        "colab": {
          "base_uri": "https://localhost:8080/"
        },
        "id": "M2Xj0x_3rDxw",
        "outputId": "e92d1ed2-40f5-46ee-a446-389bdf1165ca"
      },
      "execution_count": 42,
      "outputs": [
        {
          "output_type": "stream",
          "name": "stdout",
          "text": [
            "INFO:__main__:Command line arguments: /content/patchcore-inspection/bin/run_patchcore.py --gpu 0 --seed 0 --save_patchcore_model --log_group IM224_WR50_L2-3_P01_D1024-1024_PS-3_AN-1_S0 --log_project MVTecAD_Results results patch_core -b wideresnet50 -le layer2 -le layer3 --faiss_on_gpu --pretrain_embed_dimension 1024 --target_embed_dimension 1024 --anomaly_scorer_num_nn 1 --patchsize 3 sampler -p 0.1 approx_greedy_coreset dataset --resize 256 --imagesize 224 -d bottle -d cable -d capsule -d carpet -d grid -d hazelnut -d leather -d metal_nut -d pill -d screw -d tile -d toothbrush -d transistor -d wood -d zipper mvtec /content/drive/MyDrive/mvtec\n",
            "/usr/local/lib/python3.10/dist-packages/torch/utils/data/dataloader.py:557: UserWarning: This DataLoader will create 8 worker processes in total. Our suggested max number of worker in current system is 2, which is smaller than what this DataLoader is going to create. Please be aware that excessive worker creation might get DataLoader running slow or even freeze, lower the worker number to avoid potential slowness/freeze if necessary.\n",
            "  warnings.warn(_create_warning_msg(\n",
            "INFO:__main__:Evaluating dataset [mvtec_bottle] (1/15)...\n",
            "/usr/local/lib/python3.10/dist-packages/torchvision/models/_utils.py:208: UserWarning: The parameter 'pretrained' is deprecated since 0.13 and may be removed in the future, please use 'weights' instead.\n",
            "  warnings.warn(\n",
            "/usr/local/lib/python3.10/dist-packages/torchvision/models/_utils.py:223: UserWarning: Arguments other than a weight enum or `None` for 'weights' are deprecated since 0.13 and may be removed in the future. The current behavior is equivalent to passing `weights=Wide_ResNet50_2_Weights.IMAGENET1K_V1`. You can also use `weights=Wide_ResNet50_2_Weights.DEFAULT` to get the most up-to-date weights.\n",
            "  warnings.warn(msg)\n",
            "INFO:__main__:Training models (1/1)\n",
            "\n",
            "Computing support features...:   0% 0/105 [00:00<?, ?it/s]\u001b[A\n",
            "Computing support features...:   1% 1/105 [00:01<02:09,  1.25s/it]\u001b[A\n",
            "Computing support features...:   2% 2/105 [00:01<00:59,  1.74it/s]\u001b[A\n",
            "Computing support features...:   4% 4/105 [00:01<00:28,  3.60it/s]\u001b[A\n",
            "Computing support features...:   6% 6/105 [00:01<00:18,  5.23it/s]\u001b[A\n",
            "Computing support features...:   8% 8/105 [00:01<00:14,  6.60it/s]\u001b[A\n",
            "Computing support features...:  10% 10/105 [00:02<00:12,  7.61it/s]\u001b[A\n",
            "Computing support features...:  11% 12/105 [00:02<00:11,  8.44it/s]\u001b[A\n",
            "Computing support features...:  13% 14/105 [00:02<00:09,  9.28it/s]\u001b[A\n",
            "Computing support features...:  15% 16/105 [00:02<00:09,  9.75it/s]\u001b[A\n",
            "Computing support features...:  17% 18/105 [00:03<00:11,  7.85it/s]\u001b[A\n",
            "Computing support features...:  19% 20/105 [00:03<00:09,  8.73it/s]\u001b[A\n",
            "Computing support features...:  21% 22/105 [00:03<00:08,  9.51it/s]\u001b[A\n",
            "Computing support features...:  23% 24/105 [00:03<00:07, 10.15it/s]\u001b[A\n",
            "Computing support features...:  25% 26/105 [00:03<00:07, 10.19it/s]\u001b[A\n",
            "Computing support features...:  27% 28/105 [00:03<00:07, 10.85it/s]\u001b[A\n",
            "Computing support features...:  29% 30/105 [00:04<00:06, 10.75it/s]\u001b[A\n",
            "Computing support features...:  30% 32/105 [00:04<00:06, 11.16it/s]\u001b[A\n",
            "Computing support features...:  32% 34/105 [00:04<00:06, 11.40it/s]\u001b[A\n",
            "Computing support features...:  34% 36/105 [00:04<00:06, 10.42it/s]\u001b[A\n",
            "Computing support features...:  36% 38/105 [00:04<00:07,  9.09it/s]\u001b[A\n",
            "Computing support features...:  38% 40/105 [00:05<00:07,  8.63it/s]\u001b[A\n",
            "Computing support features...:  39% 41/105 [00:05<00:07,  8.04it/s]\u001b[A\n",
            "Computing support features...:  40% 42/105 [00:05<00:08,  7.44it/s]\u001b[A\n",
            "Computing support features...:  41% 43/105 [00:05<00:08,  7.30it/s]\u001b[A\n",
            "Computing support features...:  42% 44/105 [00:05<00:08,  7.45it/s]\u001b[A\n",
            "Computing support features...:  43% 45/105 [00:05<00:08,  7.01it/s]\u001b[A\n",
            "Computing support features...:  44% 46/105 [00:06<00:08,  6.69it/s]\u001b[A\n",
            "Computing support features...:  45% 47/105 [00:06<00:08,  6.80it/s]\u001b[A\n",
            "Computing support features...:  46% 48/105 [00:06<00:08,  6.56it/s]\u001b[A\n",
            "Computing support features...:  47% 49/105 [00:06<00:08,  6.34it/s]\u001b[A\n",
            "Computing support features...:  48% 50/105 [00:06<00:07,  7.09it/s]\u001b[A\n",
            "Computing support features...:  49% 51/105 [00:06<00:07,  7.02it/s]\u001b[A\n",
            "Computing support features...:  50% 52/105 [00:07<00:08,  6.55it/s]\u001b[A\n",
            "Computing support features...:  50% 53/105 [00:07<00:07,  6.73it/s]\u001b[A\n",
            "Computing support features...:  51% 54/105 [00:07<00:07,  6.63it/s]\u001b[A\n",
            "Computing support features...:  52% 55/105 [00:07<00:07,  7.01it/s]\u001b[A\n",
            "Computing support features...:  53% 56/105 [00:07<00:07,  6.89it/s]\u001b[A\n",
            "Computing support features...:  54% 57/105 [00:07<00:07,  6.72it/s]\u001b[A\n",
            "Computing support features...:  55% 58/105 [00:07<00:07,  6.64it/s]\u001b[A\n",
            "Computing support features...:  56% 59/105 [00:08<00:07,  6.33it/s]\u001b[A\n",
            "Computing support features...:  57% 60/105 [00:08<00:07,  5.84it/s]\u001b[A\n",
            "Computing support features...:  58% 61/105 [00:08<00:07,  5.88it/s]\u001b[A\n",
            "Computing support features...:  59% 62/105 [00:08<00:07,  6.05it/s]\u001b[A\n",
            "Computing support features...:  60% 63/105 [00:08<00:06,  6.07it/s]\u001b[A\n",
            "Computing support features...:  61% 64/105 [00:08<00:06,  6.00it/s]\u001b[A\n",
            "Computing support features...:  62% 65/105 [00:09<00:06,  6.07it/s]\u001b[A\n",
            "Computing support features...:  63% 66/105 [00:09<00:05,  6.63it/s]\u001b[A\n",
            "Computing support features...:  64% 67/105 [00:09<00:05,  6.78it/s]\u001b[A\n",
            "Computing support features...:  65% 68/105 [00:09<00:08,  4.48it/s]\u001b[A\n",
            "Computing support features...:  66% 69/105 [00:09<00:07,  4.97it/s]\u001b[A\n",
            "Computing support features...:  67% 70/105 [00:10<00:06,  5.64it/s]\u001b[A\n",
            "Computing support features...:  68% 71/105 [00:10<00:06,  5.54it/s]\u001b[A\n",
            "Computing support features...:  69% 72/105 [00:10<00:05,  6.24it/s]\u001b[A\n",
            "Computing support features...:  70% 73/105 [00:10<00:05,  6.22it/s]\u001b[A\n",
            "Computing support features...:  70% 74/105 [00:10<00:05,  5.92it/s]\u001b[A\n",
            "Computing support features...:  71% 75/105 [00:10<00:05,  5.78it/s]\u001b[A\n",
            "Computing support features...:  72% 76/105 [00:11<00:05,  5.75it/s]\u001b[A\n",
            "Computing support features...:  73% 77/105 [00:11<00:04,  6.23it/s]\u001b[A\n",
            "Computing support features...:  74% 78/105 [00:11<00:04,  6.03it/s]\u001b[A\n",
            "Computing support features...:  75% 79/105 [00:11<00:04,  6.29it/s]\u001b[A\n",
            "Computing support features...:  76% 80/105 [00:11<00:03,  6.83it/s]\u001b[A\n",
            "Computing support features...:  77% 81/105 [00:11<00:03,  6.94it/s]\u001b[A\n",
            "Computing support features...:  78% 82/105 [00:11<00:03,  7.03it/s]\u001b[A\n",
            "Computing support features...:  79% 83/105 [00:12<00:03,  6.36it/s]\u001b[A\n",
            "Computing support features...:  80% 84/105 [00:12<00:03,  6.61it/s]\u001b[A\n",
            "Computing support features...:  81% 85/105 [00:12<00:03,  6.42it/s]\u001b[A\n",
            "Computing support features...:  82% 86/105 [00:12<00:02,  6.74it/s]\u001b[A\n",
            "Computing support features...:  83% 87/105 [00:12<00:02,  6.09it/s]\u001b[A\n",
            "Computing support features...:  84% 88/105 [00:12<00:02,  6.43it/s]\u001b[A\n",
            "Computing support features...:  85% 89/105 [00:12<00:02,  6.61it/s]\u001b[A\n",
            "Computing support features...:  87% 91/105 [00:13<00:01,  8.43it/s]\u001b[A\n",
            "Computing support features...:  89% 93/105 [00:13<00:01,  9.91it/s]\u001b[A\n",
            "Computing support features...:  90% 95/105 [00:13<00:00, 11.22it/s]\u001b[A\n",
            "Computing support features...:  92% 97/105 [00:13<00:00, 12.45it/s]\u001b[A\n",
            "Computing support features...:  94% 99/105 [00:13<00:00, 13.49it/s]\u001b[A\n",
            "Computing support features...:  96% 101/105 [00:13<00:00, 14.35it/s]\u001b[A\n",
            "Computing support features...:  98% 103/105 [00:13<00:00, 15.04it/s]\u001b[A\n",
            "Subsampling...: 100% 16385/16385 [00:21<00:00, 772.80it/s]\n",
            "INFO:__main__:Embedding test data with models (1/1)\n",
            "INFO:__main__:Computing evaluation metrics.\n",
            "INFO:__main__:instance_auroc: 1.000\n",
            "INFO:__main__:full_pixel_auroc: 0.985\n",
            "INFO:__main__:anomaly_pixel_auroc: 0.980\n",
            "INFO:patchcore.patchcore:Saving PatchCore data.\n",
            "INFO:__main__:\n",
            "\n",
            "-----\n",
            "\n",
            "INFO:__main__:Evaluating dataset [mvtec_cable] (2/15)...\n",
            "/usr/local/lib/python3.10/dist-packages/torchvision/models/_utils.py:208: UserWarning: The parameter 'pretrained' is deprecated since 0.13 and may be removed in the future, please use 'weights' instead.\n",
            "  warnings.warn(\n",
            "/usr/local/lib/python3.10/dist-packages/torchvision/models/_utils.py:223: UserWarning: Arguments other than a weight enum or `None` for 'weights' are deprecated since 0.13 and may be removed in the future. The current behavior is equivalent to passing `weights=Wide_ResNet50_2_Weights.IMAGENET1K_V1`. You can also use `weights=Wide_ResNet50_2_Weights.DEFAULT` to get the most up-to-date weights.\n",
            "  warnings.warn(msg)\n",
            "INFO:__main__:Training models (1/1)\n",
            "\n",
            "Computing support features...: 0it [00:00, ?it/s]\u001b[A/usr/local/lib/python3.10/dist-packages/torch/utils/data/dataloader.py:557: UserWarning: This DataLoader will create 8 worker processes in total. Our suggested max number of worker in current system is 2, which is smaller than what this DataLoader is going to create. Please be aware that excessive worker creation might get DataLoader running slow or even freeze, lower the worker number to avoid potential slowness/freeze if necessary.\n",
            "  warnings.warn(_create_warning_msg(\n",
            "\n",
            "                                                 \u001b[ATraceback (most recent call last):\n",
            "  File \"/content/patchcore-inspection/bin/run_patchcore.py\", line 435, in <module>\n",
            "    main()\n",
            "  File \"/usr/local/lib/python3.10/dist-packages/click/core.py\", line 1128, in __call__\n",
            "    return self.main(*args, **kwargs)\n",
            "  File \"/usr/local/lib/python3.10/dist-packages/click/core.py\", line 1053, in main\n",
            "    rv = self.invoke(ctx)\n",
            "  File \"/usr/local/lib/python3.10/dist-packages/click/core.py\", line 1691, in invoke\n",
            "    return _process_result(rv)\n",
            "  File \"/usr/local/lib/python3.10/dist-packages/click/core.py\", line 1628, in _process_result\n",
            "    value = ctx.invoke(self._result_callback, value, **ctx.params)\n",
            "  File \"/usr/local/lib/python3.10/dist-packages/click/core.py\", line 754, in invoke\n",
            "    return __callback(*args, **kwargs)\n",
            "  File \"/content/patchcore-inspection/bin/run_patchcore.py\", line 97, in run\n",
            "    PatchCore.fit(dataloaders[\"training\"])\n",
            "  File \"/content/patchcore-inspection/src/patchcore/patchcore.py\", line 153, in fit\n",
            "    self._fill_memory_bank(training_data)\n",
            "  File \"/content/patchcore-inspection/src/patchcore/patchcore.py\", line 173, in _fill_memory_bank\n",
            "    features = np.concatenate(features, axis=0)\n",
            "  File \"<__array_function__ internals>\", line 180, in concatenate\n",
            "ValueError: need at least one array to concatenate\n"
          ]
        }
      ]
    },
    {
      "cell_type": "code",
      "source": [
        "!python /content/patchcore-inspection/bin/run_patchcore.py --gpu 0 --seed 3 --save_patchcore_model --log_group IM224_Ensemble_L2-3_P001_D1024-384_PS-3_AN-1_S3  --log_project MVTecAD_Results results patch_core -b wideresnet101 -b resnext101 -b densenet201 -le 0.layer2 -le 0.layer3 -le 1.layer2 -le 1.layer3 -le 2.features.denseblock2 -le 2.features.denseblock3 --faiss_on_gpu --pretrain_embed_dimension 1024 --target_embed_dimension 384 --anomaly_scorer_num_nn 1 --patchsize 3 sampler -p 0.01 approx_greedy_coreset dataset --resize 256 --imagesize 224 --subdatasets \"bottle\" mvtec \"/content/drive/MyDrive/mvtec\""
      ],
      "metadata": {
        "id": "M76OJ6j8KhkE"
      },
      "execution_count": null,
      "outputs": []
    },
    {
      "cell_type": "code",
      "source": [
        "!python /content/patchcore-inspection/bin/run_patchcore.py --gpu 0 --seed 22 --save_patchcore_model --log_group IM320_WR50_L2-3_P001_D1024-1024_PS-3_AN-1_S22  --log_project MVTecAD_Results results patch_core -b wideresnet50 -le layer2 -le layer3 --faiss_on_gpu --pretrain_embed_dimension 1024 --target_embed_dimension 1024 --anomaly_scorer_num_nn 1 --patchsize 3 sampler -p 0.01 approx_greedy_coreset dataset --resize 366 --imagesize 320  --subdatasets \"bottle\" mvtec \"/content/drive/MyDrive/mvtec\""
      ],
      "metadata": {
        "id": "rAeYWKgBNulb"
      },
      "execution_count": null,
      "outputs": []
    },
    {
      "cell_type": "code",
      "source": [
        "!python /content/patchcore-inspection/bin/run_patchcore.py  --gpu 0 --seed 40 --save_patchcore_model --log_group IM320_Ensemble_L2-3_P001_D1024-384_PS-3_AN-1_S40  --log_project MVTecAD_Results results patch_core -b wideresnet101 -b resnext101 -b densenet201 -le 0.layer2 -le 0.layer3 -le 1.layer2 -le 1.layer3 -le 2.features.denseblock2 -le 2.features.denseblock3 --faiss_on_gpu --pretrain_embed_dimension 1024 --target_embed_dimension 384 --anomaly_scorer_num_nn 1 --patchsize 3 sampler -p 0.01 approx_greedy_coreset dataset --resize 366 --imagesize 320 --subdatasets \"bottle\" mvtec \"/content/drive/MyDrive/mvtec\""
      ],
      "metadata": {
        "id": "TVGqgF3dOckV"
      },
      "execution_count": null,
      "outputs": []
    },
    {
      "cell_type": "code",
      "source": [
        "!python /content/patchcore-inspection/bin/run_patchcore.py --gpu 0 --seed 88 --save_patchcore_model --log_group IM320_Ensemble_L2-3_P001_D1024-384_PS-5_AN-5_S88 --log_project MVTecAD_Results results patch_core -b wideresnet101 -b resnext101 -b densenet201 -le 0.layer2 -le 0.layer3 -le 1.layer2 -le 1.layer3 -le 2.features.denseblock2 -le 2.features.denseblock3 --faiss_on_gpu --pretrain_embed_dimension 1024 --target_embed_dimension 384 --anomaly_scorer_num_nn 5 --patchsize 5 sampler -p 0.01 approx_greedy_coreset dataset --resize 366 --imagesize 320 --subdatasets \"bottle\" mvtec \"/content/drive/MyDrive/mvtec\""
      ],
      "metadata": {
        "id": "AETDFjJcPtqq"
      },
      "execution_count": null,
      "outputs": []
    },
    {
      "cell_type": "markdown",
      "source": [
        "**evaluation code**"
      ],
      "metadata": {
        "id": "qKREUJIUpMEN"
      }
    },
    {
      "cell_type": "code",
      "source": [
        "!python /content/patchcore-inspection/bin/load_and_evaluate_patchcore.py --gpu 0 --seed 0 \"folder_to_save_result\" patch_core_loader -p \"models/IM224_WR50_L2-3_P01_D1024-1024_PS-3_AN-1/models/mvtec_bottle/\" dataset --resize 256 --imagesize 224 -d \"bottle\" mvtec \"folder_with_mvtec_datasets\"\n"
      ],
      "metadata": {
        "id": "bpwQAtc-J4pE"
      },
      "execution_count": null,
      "outputs": []
    }
  ]
}