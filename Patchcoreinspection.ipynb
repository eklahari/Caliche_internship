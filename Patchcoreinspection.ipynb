{
  "nbformat": 4,
  "nbformat_minor": 0,
  "metadata": {
    "colab": {
      "provenance": [],
      "gpuType": "T4",
      "authorship_tag": "ABX9TyN+AtMm2msLkp4V9RTI+4Gp",
      "include_colab_link": true
    },
    "kernelspec": {
      "name": "python3",
      "display_name": "Python 3"
    },
    "language_info": {
      "name": "python"
    },
    "accelerator": "GPU"
  },
  "cells": [
    {
      "cell_type": "markdown",
      "metadata": {
        "id": "view-in-github",
        "colab_type": "text"
      },
      "source": [
        "<a href=\"https://colab.research.google.com/github/eklahari/Caliche_internship/blob/main/Patchcoreinspection.ipynb\" target=\"_parent\"><img src=\"https://colab.research.google.com/assets/colab-badge.svg\" alt=\"Open In Colab\"/></a>"
      ]
    },
    {
      "cell_type": "code",
      "execution_count": 7,
      "metadata": {
        "colab": {
          "base_uri": "https://localhost:8080/"
        },
        "id": "NEzGj-wAlx90",
        "outputId": "99d9930b-962e-451e-ae69-78607b86f1b9"
      },
      "outputs": [
        {
          "output_type": "stream",
          "name": "stdout",
          "text": [
            "fatal: destination path 'patchcore-inspection' already exists and is not an empty directory.\n"
          ]
        }
      ],
      "source": [
        "!git clone https://github.com/amazon-science/patchcore-inspection"
      ]
    },
    {
      "cell_type": "code",
      "source": [
        "!pip install  timm"
      ],
      "metadata": {
        "id": "nN3wPmZUm9mx"
      },
      "execution_count": null,
      "outputs": []
    },
    {
      "cell_type": "code",
      "source": [
        "! pip install click==8.0.3"
      ],
      "metadata": {
        "id": "X_wkmbU53rMq"
      },
      "execution_count": null,
      "outputs": []
    },
    {
      "cell_type": "code",
      "source": [
        "!pip uninstall faiss-gpu\n",
        "!pip uninstall faiss-cpu\n",
        "!pip install faiss-gpu"
      ],
      "metadata": {
        "id": "P4egHt4QnE0E"
      },
      "execution_count": null,
      "outputs": []
    },
    {
      "cell_type": "code",
      "source": [
        "!pip show faiss-gpu"
      ],
      "metadata": {
        "id": "jfeAzZ1F3LQ9"
      },
      "execution_count": null,
      "outputs": []
    },
    {
      "cell_type": "code",
      "source": [
        "from google.colab import drive\n",
        "drive.mount('/content/drive')"
      ],
      "metadata": {
        "id": "RVCcTGjxMMf9",
        "colab": {
          "base_uri": "https://localhost:8080/"
        },
        "outputId": "c2f3e341-476f-4931-e75d-ab0a27494caa"
      },
      "execution_count": 17,
      "outputs": [
        {
          "output_type": "stream",
          "name": "stdout",
          "text": [
            "Drive already mounted at /content/drive; to attempt to forcibly remount, call drive.mount(\"/content/drive\", force_remount=True).\n"
          ]
        }
      ]
    },
    {
      "cell_type": "code",
      "source": [
        "!env PYTHONPATH=/content/patchcore-inspection/src  python /content/patchcore-inspection/bin/run_patchcore.py\n",
        "!pip install /content/patchcore-inspection/"
      ],
      "metadata": {
        "id": "xjmPJCsnNm9d"
      },
      "execution_count": null,
      "outputs": []
    },
    {
      "cell_type": "code",
      "source": [
        "!pip install -r /content/patchcore-inspection/requirements.txt\n",
        "!pip install -r /content/patchcore-inspection/requirements_dev.txt"
      ],
      "metadata": {
        "id": "ifrAsS0ksSIF"
      },
      "execution_count": null,
      "outputs": []
    },
    {
      "cell_type": "code",
      "source": [
        "datapath = \"/content/drive/MyDrive/mvtec\"\n",
        "datasets = ['bottle', 'cable', 'capsule', 'carpet', 'grid', 'hazelnut',\n",
        "            'leather', 'metal_nut', 'pill', 'screw', 'tile', 'toothbrush', 'transistor', 'wood', 'zipper']\n",
        "dataset_flags = ' '.join(['-d ' + dataset for dataset in datasets])\n",
        "\n",
        "print(datapath)\n",
        "print(dataset_flags)"
      ],
      "metadata": {
        "colab": {
          "base_uri": "https://localhost:8080/"
        },
        "id": "bVEAzkizMox2",
        "outputId": "8aca3944-1d00-4b0a-fd73-7ff971655f51"
      },
      "execution_count": 32,
      "outputs": [
        {
          "output_type": "stream",
          "name": "stdout",
          "text": [
            "/content/drive/MyDrive/mvtec\n",
            "-d bottle -d cable -d capsule -d carpet -d grid -d hazelnut -d leather -d metal_nut -d pill -d screw -d tile -d toothbrush -d transistor -d wood -d zipper\n"
          ]
        }
      ]
    },
    {
      "cell_type": "markdown",
      "source": [
        "### **Training phase code**"
      ],
      "metadata": {
        "id": "GBsR0wz6RR5o"
      }
    },
    {
      "cell_type": "markdown",
      "source": [
        "Training single dataset :bottle"
      ],
      "metadata": {
        "id": "jQuzX0YwD6z1"
      }
    },
    {
      "cell_type": "code",
      "source": [
        "!python /content/patchcore-inspection/bin/run_patchcore.py --gpu 0 --seed 0 --save_patchcore_model --log_group IM224_WR50_L2-3_P01_D1024-1024_PS-3_AN-1_S0 --log_project MVTecAD_Results results patch_core -b wideresnet50 -le layer2 -le layer3 --pretrain_embed_dimension 1024 --target_embed_dimension 1024 --anomaly_scorer_num_nn 1 --patchsize 3 sampler -p 0.1 approx_greedy_coreset dataset --resize 256 --imagesize 224 --subdatasets \"bottle\"   mvtec \"/content/drive/MyDrive/mvtec\""
      ],
      "metadata": {
        "id": "7T8EptK0FgAc"
      },
      "execution_count": null,
      "outputs": []
    },
    {
      "cell_type": "markdown",
      "source": [
        "Training multiple subdatsets simultaneously"
      ],
      "metadata": {
        "id": "A6uBxdBbE3GM"
      }
    },
    {
      "cell_type": "code",
      "source": [
        "# Set the correct paths\n",
        "datapath = \"/content/drive/MyDrive/mvtec\"\n",
        "datasets = ['bottle', 'cable', 'capsule', 'carpet', 'grid', 'hazelnut', 'leather', 'metal_nut', 'pill', 'screw', 'tile', 'toothbrush', 'transistor', 'wood', 'zipper']\n",
        "\n",
        "# Create dataset_flags using list comprehension\n",
        "dataset_flags = ['-d ' + dataset for dataset in datasets]\n",
        "!python \"/content/patchcore-inspection/bin/run_patchcore.py\" --gpu 0 --seed 0 --save_patchcore_model --log_group IM224_WR50_L2-3_P01_D1024-1024_PS-3_AN-1_S0  --log_project MVTecAD_Results results patch_core -b wideresnet50 -le layer2 -le layer3 --faiss_on_gpu --pretrain_embed_dimension 1024 --target_embed_dimension 1024 --anomaly_scorer_num_nn 1 --patchsize 3 sampler -p 0.1 approx_greedy_coreset dataset --resize 256 --imagesize 224 {' '.join(dataset_flags)} mvtec $datapath\n"
      ],
      "metadata": {
        "colab": {
          "base_uri": "https://localhost:8080/"
        },
        "id": "M2Xj0x_3rDxw",
        "outputId": "0e0aa4de-8bdf-4e86-f332-663868fd4d89"
      },
      "execution_count": 34,
      "outputs": [
        {
          "output_type": "stream",
          "name": "stdout",
          "text": [
            "INFO:__main__:Command line arguments: /content/patchcore-inspection/bin/run_patchcore.py --gpu 0 --seed 0 --save_patchcore_model --log_group IM224_WR50_L2-3_P01_D1024-1024_PS-3_AN-1_S0 --log_project MVTecAD_Results results patch_core -b wideresnet50 -le layer2 -le layer3 --faiss_on_gpu --pretrain_embed_dimension 1024 --target_embed_dimension 1024 --anomaly_scorer_num_nn 1 --patchsize 3 sampler -p 0.1 approx_greedy_coreset dataset --resize 256 --imagesize 224 -d bottle -d cable -d capsule -d carpet -d grid -d hazelnut -d leather -d metal_nut -d pill -d screw -d tile -d toothbrush -d transistor -d wood -d zipper mvtec /content/drive/MyDrive/mvtec\n",
            "/usr/local/lib/python3.10/dist-packages/torch/utils/data/dataloader.py:557: UserWarning: This DataLoader will create 8 worker processes in total. Our suggested max number of worker in current system is 2, which is smaller than what this DataLoader is going to create. Please be aware that excessive worker creation might get DataLoader running slow or even freeze, lower the worker number to avoid potential slowness/freeze if necessary.\n",
            "  warnings.warn(_create_warning_msg(\n",
            "INFO:__main__:Evaluating dataset [mvtec_bottle] (1/15)...\n",
            "/usr/local/lib/python3.10/dist-packages/torchvision/models/_utils.py:208: UserWarning: The parameter 'pretrained' is deprecated since 0.13 and may be removed in the future, please use 'weights' instead.\n",
            "  warnings.warn(\n",
            "/usr/local/lib/python3.10/dist-packages/torchvision/models/_utils.py:223: UserWarning: Arguments other than a weight enum or `None` for 'weights' are deprecated since 0.13 and may be removed in the future. The current behavior is equivalent to passing `weights=Wide_ResNet50_2_Weights.IMAGENET1K_V1`. You can also use `weights=Wide_ResNet50_2_Weights.DEFAULT` to get the most up-to-date weights.\n",
            "  warnings.warn(msg)\n",
            "INFO:__main__:Training models (1/1)\n",
            "\n",
            "Computing support features...:   0% 0/105 [00:00<?, ?it/s]\u001b[A\n",
            "Computing support features...:   1% 1/105 [00:01<02:12,  1.27s/it]\u001b[A\n",
            "Computing support features...:   2% 2/105 [00:01<01:02,  1.65it/s]\u001b[A\n",
            "Computing support features...:   4% 4/105 [00:01<00:29,  3.47it/s]\u001b[A\n",
            "Computing support features...:   6% 6/105 [00:01<00:19,  5.14it/s]\u001b[A\n",
            "Computing support features...:   7% 7/105 [00:01<00:17,  5.69it/s]\u001b[A\n",
            "Computing support features...:   8% 8/105 [00:02<00:16,  5.93it/s]\u001b[A\n",
            "Computing support features...:   9% 9/105 [00:02<00:14,  6.43it/s]\u001b[A\n",
            "Computing support features...:  10% 10/105 [00:02<00:15,  6.23it/s]\u001b[A\n",
            "Computing support features...:  10% 11/105 [00:02<00:14,  6.56it/s]\u001b[A\n",
            "Computing support features...:  11% 12/105 [00:02<00:12,  7.18it/s]\u001b[A\n",
            "Computing support features...:  12% 13/105 [00:02<00:14,  6.45it/s]\u001b[A\n",
            "Computing support features...:  13% 14/105 [00:02<00:12,  7.07it/s]\u001b[A\n",
            "Computing support features...:  15% 16/105 [00:03<00:10,  8.47it/s]\u001b[A\n",
            "Computing support features...:  16% 17/105 [00:03<00:13,  6.45it/s]\u001b[A\n",
            "Computing support features...:  18% 19/105 [00:03<00:11,  7.78it/s]\u001b[A\n",
            "Computing support features...:  20% 21/105 [00:03<00:09,  8.81it/s]\u001b[A\n",
            "Computing support features...:  22% 23/105 [00:03<00:08,  9.74it/s]\u001b[A\n",
            "Computing support features...:  24% 25/105 [00:04<00:07, 10.18it/s]\u001b[A\n",
            "Computing support features...:  26% 27/105 [00:04<00:07, 10.73it/s]\u001b[A\n",
            "Computing support features...:  28% 29/105 [00:04<00:07, 10.31it/s]\u001b[A\n",
            "Computing support features...:  30% 31/105 [00:04<00:08,  8.75it/s]\u001b[A\n",
            "Computing support features...:  30% 32/105 [00:04<00:08,  8.17it/s]\u001b[A\n",
            "Computing support features...:  31% 33/105 [00:04<00:08,  8.41it/s]\u001b[A\n",
            "Computing support features...:  32% 34/105 [00:05<00:09,  7.69it/s]\u001b[A\n",
            "Computing support features...:  33% 35/105 [00:05<00:09,  7.13it/s]\u001b[A\n",
            "Computing support features...:  34% 36/105 [00:05<00:09,  6.92it/s]\u001b[A\n",
            "Computing support features...:  35% 37/105 [00:05<00:09,  6.89it/s]\u001b[A\n",
            "Computing support features...:  36% 38/105 [00:05<00:08,  7.49it/s]\u001b[A\n",
            "Computing support features...:  37% 39/105 [00:05<00:10,  6.59it/s]\u001b[A\n",
            "Computing support features...:  38% 40/105 [00:06<00:10,  6.30it/s]\u001b[A\n",
            "Computing support features...:  39% 41/105 [00:06<00:09,  6.42it/s]\u001b[A\n",
            "Computing support features...:  40% 42/105 [00:06<00:10,  6.17it/s]\u001b[A\n",
            "Computing support features...:  41% 43/105 [00:06<00:09,  6.23it/s]\u001b[A\n",
            "Computing support features...:  43% 45/105 [00:06<00:08,  6.97it/s]\u001b[A\n",
            "Computing support features...:  44% 46/105 [00:06<00:08,  7.15it/s]\u001b[A\n",
            "Computing support features...:  45% 47/105 [00:07<00:08,  7.09it/s]\u001b[A\n",
            "Computing support features...:  46% 48/105 [00:07<00:07,  7.63it/s]\u001b[A\n",
            "Computing support features...:  47% 49/105 [00:07<00:07,  7.68it/s]\u001b[A\n",
            "Computing support features...:  48% 50/105 [00:07<00:07,  7.30it/s]\u001b[A\n",
            "Computing support features...:  49% 51/105 [00:07<00:07,  7.15it/s]\u001b[A\n",
            "Computing support features...:  50% 52/105 [00:07<00:07,  7.55it/s]\u001b[A\n",
            "Computing support features...:  50% 53/105 [00:07<00:08,  6.48it/s]\u001b[A\n",
            "Computing support features...:  51% 54/105 [00:08<00:08,  6.20it/s]\u001b[A\n",
            "Computing support features...:  52% 55/105 [00:08<00:07,  6.69it/s]\u001b[A\n",
            "Computing support features...:  53% 56/105 [00:08<00:07,  6.72it/s]\u001b[A\n",
            "Computing support features...:  54% 57/105 [00:08<00:06,  6.91it/s]\u001b[A\n",
            "Computing support features...:  55% 58/105 [00:08<00:06,  6.81it/s]\u001b[A\n",
            "Computing support features...:  56% 59/105 [00:08<00:06,  6.91it/s]\u001b[A\n",
            "Computing support features...:  57% 60/105 [00:08<00:06,  6.89it/s]\u001b[A\n",
            "Computing support features...:  58% 61/105 [00:09<00:06,  6.61it/s]\u001b[A\n",
            "Computing support features...:  59% 62/105 [00:09<00:06,  6.97it/s]\u001b[A\n",
            "Computing support features...:  60% 63/105 [00:09<00:06,  6.60it/s]\u001b[A\n",
            "Computing support features...:  61% 64/105 [00:09<00:06,  6.31it/s]\u001b[A\n",
            "Computing support features...:  62% 65/105 [00:09<00:06,  6.51it/s]\u001b[A\n",
            "Computing support features...:  63% 66/105 [00:09<00:05,  6.58it/s]\u001b[A\n",
            "Computing support features...:  64% 67/105 [00:10<00:05,  6.75it/s]\u001b[A\n",
            "Computing support features...:  65% 68/105 [00:10<00:08,  4.54it/s]\u001b[A\n",
            "Computing support features...:  66% 69/105 [00:10<00:07,  5.08it/s]\u001b[A\n",
            "Computing support features...:  67% 70/105 [00:10<00:06,  5.22it/s]\u001b[A\n",
            "Computing support features...:  68% 71/105 [00:10<00:06,  5.61it/s]\u001b[A\n",
            "Computing support features...:  69% 72/105 [00:11<00:05,  5.75it/s]\u001b[A\n",
            "Computing support features...:  70% 73/105 [00:11<00:04,  6.40it/s]\u001b[A\n",
            "Computing support features...:  70% 74/105 [00:11<00:04,  6.31it/s]\u001b[A\n",
            "Computing support features...:  71% 75/105 [00:11<00:04,  6.27it/s]\u001b[A\n",
            "Computing support features...:  73% 77/105 [00:11<00:04,  6.99it/s]\u001b[A\n",
            "Computing support features...:  74% 78/105 [00:11<00:03,  7.27it/s]\u001b[A\n",
            "Computing support features...:  75% 79/105 [00:12<00:03,  7.09it/s]\u001b[A\n",
            "Computing support features...:  76% 80/105 [00:12<00:03,  6.89it/s]\u001b[A\n",
            "Computing support features...:  77% 81/105 [00:12<00:03,  7.35it/s]\u001b[A\n",
            "Computing support features...:  78% 82/105 [00:12<00:03,  7.44it/s]\u001b[A\n",
            "Computing support features...:  79% 83/105 [00:12<00:02,  7.68it/s]\u001b[A\n",
            "Computing support features...:  81% 85/105 [00:12<00:02,  8.86it/s]\u001b[A\n",
            "Computing support features...:  83% 87/105 [00:12<00:01,  9.75it/s]\u001b[A\n",
            "Computing support features...:  85% 89/105 [00:13<00:01, 10.35it/s]\u001b[A\n",
            "Computing support features...:  87% 91/105 [00:13<00:01, 11.43it/s]\u001b[A\n",
            "Computing support features...:  89% 93/105 [00:13<00:00, 12.25it/s]\u001b[A\n",
            "Computing support features...:  90% 95/105 [00:13<00:00, 12.97it/s]\u001b[A\n",
            "Computing support features...:  92% 97/105 [00:13<00:00, 13.98it/s]\u001b[A\n",
            "Computing support features...:  94% 99/105 [00:13<00:00, 14.75it/s]\u001b[A\n",
            "Computing support features...:  96% 101/105 [00:13<00:00, 15.52it/s]\u001b[A\n",
            "Computing support features...:  98% 103/105 [00:13<00:00, 16.15it/s]\u001b[A\n",
            "Subsampling...: 100% 16385/16385 [00:21<00:00, 761.02it/s]\n",
            "INFO:__main__:Embedding test data with models (1/1)\n",
            "INFO:__main__:Computing evaluation metrics.\n",
            "INFO:__main__:instance_auroc: 1.000\n",
            "INFO:__main__:full_pixel_auroc: 0.985\n",
            "INFO:__main__:anomaly_pixel_auroc: 0.980\n",
            "INFO:patchcore.patchcore:Saving PatchCore data.\n",
            "INFO:__main__:\n",
            "\n",
            "-----\n",
            "\n",
            "INFO:__main__:Evaluating dataset [mvtec_cable] (2/15)...\n",
            "/usr/local/lib/python3.10/dist-packages/torchvision/models/_utils.py:208: UserWarning: The parameter 'pretrained' is deprecated since 0.13 and may be removed in the future, please use 'weights' instead.\n",
            "  warnings.warn(\n",
            "/usr/local/lib/python3.10/dist-packages/torchvision/models/_utils.py:223: UserWarning: Arguments other than a weight enum or `None` for 'weights' are deprecated since 0.13 and may be removed in the future. The current behavior is equivalent to passing `weights=Wide_ResNet50_2_Weights.IMAGENET1K_V1`. You can also use `weights=Wide_ResNet50_2_Weights.DEFAULT` to get the most up-to-date weights.\n",
            "  warnings.warn(msg)\n",
            "INFO:__main__:Training models (1/1)\n",
            "\n",
            "Computing support features...: 0it [00:00, ?it/s]\u001b[A/usr/local/lib/python3.10/dist-packages/torch/utils/data/dataloader.py:557: UserWarning: This DataLoader will create 8 worker processes in total. Our suggested max number of worker in current system is 2, which is smaller than what this DataLoader is going to create. Please be aware that excessive worker creation might get DataLoader running slow or even freeze, lower the worker number to avoid potential slowness/freeze if necessary.\n",
            "  warnings.warn(_create_warning_msg(\n",
            "\n",
            "                                                 \u001b[ATraceback (most recent call last):\n",
            "  File \"/content/patchcore-inspection/bin/run_patchcore.py\", line 435, in <module>\n",
            "    main()\n",
            "  File \"/usr/local/lib/python3.10/dist-packages/click/core.py\", line 1128, in __call__\n",
            "    return self.main(*args, **kwargs)\n",
            "  File \"/usr/local/lib/python3.10/dist-packages/click/core.py\", line 1053, in main\n",
            "    rv = self.invoke(ctx)\n",
            "  File \"/usr/local/lib/python3.10/dist-packages/click/core.py\", line 1691, in invoke\n",
            "    return _process_result(rv)\n",
            "  File \"/usr/local/lib/python3.10/dist-packages/click/core.py\", line 1628, in _process_result\n",
            "    value = ctx.invoke(self._result_callback, value, **ctx.params)\n",
            "  File \"/usr/local/lib/python3.10/dist-packages/click/core.py\", line 754, in invoke\n",
            "    return __callback(*args, **kwargs)\n",
            "  File \"/content/patchcore-inspection/bin/run_patchcore.py\", line 97, in run\n",
            "    PatchCore.fit(dataloaders[\"training\"])\n",
            "  File \"/content/patchcore-inspection/src/patchcore/patchcore.py\", line 153, in fit\n",
            "    self._fill_memory_bank(training_data)\n",
            "  File \"/content/patchcore-inspection/src/patchcore/patchcore.py\", line 173, in _fill_memory_bank\n",
            "    features = np.concatenate(features, axis=0)\n",
            "  File \"<__array_function__ internals>\", line 180, in concatenate\n",
            "ValueError: need at least one array to concatenate\n"
          ]
        }
      ]
    }
  ]
}